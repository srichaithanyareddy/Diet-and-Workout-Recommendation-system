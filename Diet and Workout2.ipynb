{
  "nbformat": 4,
  "nbformat_minor": 0,
  "metadata": {
    "colab": {
      "provenance": [],
      "machine_shape": "hm",
      "gpuType": "T4"
    },
    "kernelspec": {
      "name": "python3",
      "display_name": "Python 3"
    },
    "language_info": {
      "name": "python"
    },
    "accelerator": "GPU"
  },
  "cells": [
    {
      "cell_type": "code",
      "source": [],
      "metadata": {
        "id": "iXHUsn-6r0OY"
      },
      "execution_count": null,
      "outputs": []
    },
    {
      "cell_type": "code",
      "source": [
        "from google.colab import drive\n",
        "drive.mount('/content/drive')"
      ],
      "metadata": {
        "colab": {
          "base_uri": "https://localhost:8080/"
        },
        "id": "xXCHTCYkr09G",
        "outputId": "5dec1ef0-51aa-46f1-feb7-627fb32b4bec"
      },
      "execution_count": 4,
      "outputs": [
        {
          "output_type": "stream",
          "name": "stdout",
          "text": [
            "Mounted at /content/drive\n"
          ]
        }
      ]
    },
    {
      "cell_type": "code",
      "execution_count": 6,
      "metadata": {
        "id": "i4WcJXEQUwNT"
      },
      "outputs": [],
      "source": [
        "# Step 1: Import Libraries\n",
        "import pandas as pd\n",
        "from sklearn.impute import SimpleImputer\n",
        "from sklearn.preprocessing import LabelEncoder, StandardScaler\n",
        "from sklearn.model_selection import train_test_split\n",
        "from sklearn.ensemble import GradientBoostingClassifier, GradientBoostingRegressor\n",
        "from sklearn.metrics import accuracy_score, classification_report, mean_absolute_error, r2_score\n",
        "\n",
        "\n",
        "\n",
        "\n",
        "\n",
        "\n",
        "\n",
        "\n",
        "\n"
      ]
    },
    {
      "cell_type": "code",
      "source": [
        "# Step 2: Load the datasets\n",
        "diet_df = pd.read_csv('/content/drive/MyDrive/Updated_Diet_dataset.csv')\n",
        "workout_df = pd.read_csv('/content/drive/MyDrive/Enhanced_Workout_dataset.csv')\n"
      ],
      "metadata": {
        "id": "hsQzYt1swf2z"
      },
      "execution_count": 7,
      "outputs": []
    },
    {
      "cell_type": "code",
      "source": [
        "# Step 3: Preprocessing for Diet Dataset\n",
        "# Extract numerical columns for scaling\n",
        "numerical_columns_diet = ['Price', 'Calories']\n",
        "scaler_diet = StandardScaler()\n",
        "diet_df[numerical_columns_diet] = scaler_diet.fit_transform(diet_df[numerical_columns_diet])\n",
        "\n",
        "# Encode categorical columns in diet dataset\n",
        "categorical_columns_diet = ['Veg_Non', 'Nutrient', 'Disease', 'Diet', 'User_Preferences', 'Category']\n",
        "label_encoders_diet = {}\n",
        "for col in categorical_columns_diet:\n",
        "    le = LabelEncoder()\n",
        "    diet_df[col] = le.fit_transform(diet_df[col])\n",
        "    label_encoders_diet[col] = le\n"
      ],
      "metadata": {
        "id": "Q9OMh0Lb0PvI"
      },
      "execution_count": 8,
      "outputs": []
    },
    {
      "cell_type": "code",
      "source": [
        "# Step 4: Preprocessing for Workout Dataset\n",
        "# Impute missing values for Workout dataset using the most frequent strategy\n",
        "imputer = SimpleImputer(strategy='most_frequent')\n",
        "workout_df[['Exercise_Type', 'Fitness_Level', 'Previous_Injuries', 'Motivation_Level']] = imputer.fit_transform(\n",
        "    workout_df[['Exercise_Type', 'Fitness_Level', 'Previous_Injuries', 'Motivation_Level']])\n",
        "\n",
        "# Extract numerical columns for scaling\n",
        "numerical_columns_workout = ['Calories_Burn', 'Dream_Weight', 'Actual_Weight', 'Age',\n",
        "                             'Duration', 'Heart_Rate', 'BMI', 'Exercise_Intensity', 'Motivation_Level']\n",
        "scaler_workout = StandardScaler()\n",
        "workout_df[numerical_columns_workout] = scaler_workout.fit_transform(workout_df[numerical_columns_workout])\n"
      ],
      "metadata": {
        "id": "ygenQLC3wvst"
      },
      "execution_count": 9,
      "outputs": []
    },
    {
      "cell_type": "code",
      "source": [
        "# Step 5: Fit LabelEncoder on the entire 'Exercise_Type' column BEFORE splitting the data\n",
        "label_encoders_workout = {}\n",
        "le_exercise_type = LabelEncoder()\n",
        "workout_df['Exercise_Type'] = le_exercise_type.fit_transform(workout_df['Exercise_Type'])  # Encode before split\n",
        "label_encoders_workout['Exercise_Type'] = le_exercise_type\n"
      ],
      "metadata": {
        "id": "n7CVZPPiw0tw"
      },
      "execution_count": 10,
      "outputs": []
    },
    {
      "cell_type": "code",
      "source": [
        "# Step 6: Train Diet Model (Gradient Boosting Classifier)\n",
        "X_diet = diet_df[['Price', 'Calories', 'Veg_Non', 'Nutrient', 'Disease', 'User_Preferences']]\n",
        "y_diet = diet_df['Diet']\n",
        "\n",
        "# Split data into training and test sets\n",
        "X_train_diet, X_test_diet, y_train_diet, y_test_diet = train_test_split(X_diet, y_diet, test_size=0.2, random_state=42)\n",
        "\n",
        "# Train the Gradient Boosting Classifier for diet recommendation\n",
        "gb_diet_model = GradientBoostingClassifier(n_estimators=100, random_state=42)\n",
        "gb_diet_model.fit(X_train_diet, y_train_diet)\n",
        "\n",
        "# Evaluate the diet model\n",
        "y_pred_diet = gb_diet_model.predict(X_test_diet)\n",
        "diet_accuracy = accuracy_score(y_test_diet, y_pred_diet)\n",
        "diet_classification_report = classification_report(y_test_diet, y_pred_diet)\n",
        "print(f\"Diet Model - Accuracy: {diet_accuracy}\")\n",
        "print(f\"Classification Report:\\n{diet_classification_report}\")\n"
      ],
      "metadata": {
        "colab": {
          "base_uri": "https://localhost:8080/"
        },
        "id": "RqkQnPhIw9DU",
        "outputId": "71e9f3b8-3a88-4214-dd59-7d520b51f968"
      },
      "execution_count": 11,
      "outputs": [
        {
          "output_type": "stream",
          "name": "stdout",
          "text": [
            "Diet Model - Accuracy: 0.09175\n",
            "Classification Report:\n",
            "              precision    recall  f1-score   support\n",
            "\n",
            "           0       0.00      0.00      0.00        41\n",
            "           1       0.00      0.00      0.00        38\n",
            "           2       0.00      0.00      0.00       159\n",
            "           3       0.00      0.00      0.00        48\n",
            "           4       0.08      0.01      0.02        75\n",
            "           5       0.00      0.00      0.00        38\n",
            "           6       0.00      0.00      0.00        72\n",
            "           7       0.00      0.00      0.00        38\n",
            "           8       0.00      0.00      0.00        31\n",
            "           9       0.00      0.00      0.00        53\n",
            "          10       0.00      0.00      0.00       111\n",
            "          11       0.00      0.00      0.00        41\n",
            "          12       0.00      0.00      0.00       124\n",
            "          13       0.00      0.00      0.00        36\n",
            "          14       0.00      0.00      0.00       527\n",
            "          15       0.00      0.00      0.00       143\n",
            "          16       0.00      0.00      0.00        45\n",
            "          17       0.00      0.00      0.00        40\n",
            "          18       0.00      0.00      0.00       182\n",
            "          19       0.00      0.00      0.00       123\n",
            "          20       0.00      0.00      0.00        52\n",
            "          21       0.00      0.00      0.00        67\n",
            "          22       0.00      0.00      0.00        36\n",
            "          23       0.00      0.00      0.00       115\n",
            "          24       0.00      0.00      0.00        78\n",
            "          25       0.00      0.00      0.00       119\n",
            "          26       0.00      0.00      0.00        42\n",
            "          27       0.00      0.00      0.00        92\n",
            "          28       0.00      0.00      0.00        33\n",
            "          29       0.00      0.00      0.00        43\n",
            "          30       0.00      0.00      0.00        41\n",
            "          31       0.00      0.00      0.00        69\n",
            "          32       0.00      0.00      0.00       151\n",
            "          33       0.00      0.00      0.00        71\n",
            "          34       0.00      0.00      0.00        30\n",
            "          35       0.00      0.00      0.00        35\n",
            "          36       0.00      0.00      0.00        28\n",
            "          37       0.00      0.00      0.00        47\n",
            "          38       0.00      0.00      0.00       214\n",
            "          39       0.20      0.00      0.01       323\n",
            "          40       0.08      0.01      0.01      1055\n",
            "          41       0.00      0.00      0.00       105\n",
            "          42       0.00      0.00      0.00        35\n",
            "          43       0.00      0.00      0.00        33\n",
            "          44       0.00      0.00      0.00       135\n",
            "          45       0.00      0.00      0.00        87\n",
            "          46       0.00      0.00      0.00       115\n",
            "          47       0.00      0.00      0.00        41\n",
            "          48       0.00      0.00      0.00        32\n",
            "          49       0.00      0.00      0.00        42\n",
            "          50       0.00      0.00      0.00        33\n",
            "          51       0.00      0.00      0.00        37\n",
            "          52       0.00      0.00      0.00        48\n",
            "          53       0.00      0.00      0.00        73\n",
            "          54       0.00      0.00      0.00        38\n",
            "          55       0.00      0.00      0.00        70\n",
            "          56       0.00      0.00      0.00        79\n",
            "          57       0.00      0.00      0.00       143\n",
            "          58       0.00      0.00      0.00        69\n",
            "          59       0.00      0.00      0.00        56\n",
            "          60       0.00      0.00      0.00       250\n",
            "          61       0.00      0.00      0.00        83\n",
            "          62       0.06      0.03      0.04        30\n",
            "          63       0.00      0.00      0.00        82\n",
            "          64       0.00      0.00      0.00       186\n",
            "          65       0.00      0.00      0.00        39\n",
            "          66       0.00      0.00      0.00       142\n",
            "          67       0.00      0.00      0.00       228\n",
            "          68       0.00      0.00      0.00       497\n",
            "          69       0.00      0.00      0.00       158\n",
            "          70       0.00      0.00      0.00        97\n",
            "          71       0.09      0.01      0.01      1147\n",
            "          72       0.00      0.00      0.00        79\n",
            "          73       0.00      0.00      0.00       133\n",
            "          74       0.00      0.00      0.00        38\n",
            "          75       0.00      0.00      0.00       221\n",
            "          76       0.00      0.00      0.00       357\n",
            "          77       0.00      0.00      0.00        84\n",
            "          78       0.00      0.00      0.00       615\n",
            "          79       0.00      0.00      0.00       170\n",
            "          80       0.00      0.00      0.00       158\n",
            "          81       0.00      0.00      0.00       118\n",
            "          82       0.00      0.00      0.00       143\n",
            "          83       0.00      0.00      0.00        42\n",
            "          84       0.00      0.00      0.00        32\n",
            "          85       0.00      0.00      0.00        34\n",
            "          86       0.00      0.00      0.00       117\n",
            "          87       0.00      0.00      0.00        85\n",
            "          88       0.00      0.00      0.00       194\n",
            "          89       0.00      0.00      0.00        73\n",
            "          90       0.00      0.00      0.00        63\n",
            "          91       0.00      0.00      0.00       297\n",
            "          92       0.00      0.00      0.00        46\n",
            "          93       0.00      0.00      0.00        86\n",
            "          94       0.06      0.00      0.00       407\n",
            "          95       0.00      0.00      0.00       199\n",
            "          96       0.00      0.00      0.00        47\n",
            "          97       0.00      0.00      0.00        86\n",
            "          98       0.00      0.00      0.00        44\n",
            "          99       0.00      0.00      0.00        22\n",
            "         100       0.00      0.00      0.00        76\n",
            "         101       0.00      0.00      0.00        80\n",
            "         102       0.00      0.00      0.00        42\n",
            "         103       0.00      0.00      0.00       262\n",
            "         104       0.00      0.00      0.00        42\n",
            "         105       0.00      0.00      0.00        38\n",
            "         106       0.00      0.00      0.00        24\n",
            "         107       0.00      0.00      0.00        36\n",
            "         108       0.00      0.00      0.00       144\n",
            "         109       0.00      0.00      0.00       152\n",
            "         110       0.00      0.00      0.00        38\n",
            "         111       0.00      0.00      0.00        84\n",
            "         112       0.00      0.00      0.00        65\n",
            "         113       0.00      0.00      0.00       114\n",
            "         114       0.10      0.94      0.18      1930\n",
            "         115       0.07      0.00      0.00       459\n",
            "         116       0.00      0.00      0.00       173\n",
            "         117       0.00      0.00      0.00        71\n",
            "         118       0.00      0.00      0.00       193\n",
            "         119       0.14      0.01      0.01       158\n",
            "         120       0.00      0.00      0.00        42\n",
            "         121       0.00      0.00      0.00        48\n",
            "         122       0.00      0.00      0.00       165\n",
            "         123       0.00      0.00      0.00        42\n",
            "         124       0.00      0.00      0.00       206\n",
            "         125       0.00      0.00      0.00       158\n",
            "         126       0.00      0.00      0.00        41\n",
            "         127       0.00      0.00      0.00        51\n",
            "         128       0.00      0.00      0.00        48\n",
            "         129       0.00      0.00      0.00        50\n",
            "         130       0.00      0.00      0.00        68\n",
            "         131       0.00      0.00      0.00        89\n",
            "         132       0.00      0.00      0.00        30\n",
            "         133       0.00      0.00      0.00       382\n",
            "         134       0.00      0.00      0.00        85\n",
            "         135       0.00      0.00      0.00       126\n",
            "         136       0.00      0.00      0.00       243\n",
            "         137       0.00      0.00      0.00       631\n",
            "         138       0.00      0.00      0.00       191\n",
            "         139       0.00      0.00      0.00       127\n",
            "         140       0.00      0.00      0.00        90\n",
            "\n",
            "    accuracy                           0.09     20000\n",
            "   macro avg       0.01      0.01      0.00     20000\n",
            "weighted avg       0.03      0.09      0.02     20000\n",
            "\n"
          ]
        },
        {
          "output_type": "stream",
          "name": "stderr",
          "text": [
            "/usr/local/lib/python3.10/dist-packages/sklearn/metrics/_classification.py:1531: UndefinedMetricWarning: Precision is ill-defined and being set to 0.0 in labels with no predicted samples. Use `zero_division` parameter to control this behavior.\n",
            "  _warn_prf(average, modifier, f\"{metric.capitalize()} is\", len(result))\n",
            "/usr/local/lib/python3.10/dist-packages/sklearn/metrics/_classification.py:1531: UndefinedMetricWarning: Precision is ill-defined and being set to 0.0 in labels with no predicted samples. Use `zero_division` parameter to control this behavior.\n",
            "  _warn_prf(average, modifier, f\"{metric.capitalize()} is\", len(result))\n",
            "/usr/local/lib/python3.10/dist-packages/sklearn/metrics/_classification.py:1531: UndefinedMetricWarning: Precision is ill-defined and being set to 0.0 in labels with no predicted samples. Use `zero_division` parameter to control this behavior.\n",
            "  _warn_prf(average, modifier, f\"{metric.capitalize()} is\", len(result))\n"
          ]
        }
      ]
    },
    {
      "cell_type": "code",
      "source": [
        "# Step 7: Train Workout Model (Gradient Boosting Regressor)\n",
        "X_workout = workout_df[['Calories_Burn', 'Dream_Weight', 'Actual_Weight', 'Age', 'Duration', 'BMI', 'Exercise_Intensity']]\n",
        "y_workout = workout_df['Exercise_Type']\n",
        "\n",
        "# Split data into training and test sets\n",
        "X_train_workout, X_test_workout, y_train_workout, y_test_workout = train_test_split(X_workout, y_workout, test_size=0.2, random_state=42)\n",
        "\n",
        "# Train the Gradient Boosting Regressor for workout recommendation\n",
        "gb_workout_model = GradientBoostingRegressor(n_estimators=100, random_state=42)\n",
        "gb_workout_model.fit(X_train_workout, y_train_workout)\n",
        "\n",
        "# Evaluate the workout model\n",
        "y_pred_workout = gb_workout_model.predict(X_test_workout)\n",
        "workout_mae = mean_absolute_error(y_test_workout, y_pred_workout)\n",
        "workout_r2 = r2_score(y_test_workout, y_pred_workout)\n",
        "print(f\"Workout Model - MAE: {workout_mae}, R² Score: {workout_r2}\")\n"
      ],
      "metadata": {
        "colab": {
          "base_uri": "https://localhost:8080/"
        },
        "id": "rDlcy4_mxEel",
        "outputId": "c447dc6f-942c-4f61-8f33-d14ae680d434"
      },
      "execution_count": 12,
      "outputs": [
        {
          "output_type": "stream",
          "name": "stdout",
          "text": [
            "Workout Model - MAE: 1.0150381219275495, R² Score: 0.0031716200609800405\n"
          ]
        }
      ]
    },
    {
      "cell_type": "code",
      "source": [
        "# Step 8: Create Recommendation System\n",
        "def recommend_diet_workout(age, weight, height, veg_nonveg, preference):\n",
        "    \"\"\"\n",
        "    Function to recommend a suitable diet and workout based on user input.\n",
        "    \"\"\"\n",
        "    # BMI Calculation\n",
        "    bmi = weight / ((height / 100) ** 2)\n",
        "\n",
        "    # Recommend diet\n",
        "    diet_input = [[0, bmi, veg_nonveg, preference, 0, preference]]  # Adjust to match diet features\n",
        "    predicted_diet = gb_diet_model.predict(diet_input)[0]\n",
        "    diet_name = label_encoders_diet['Diet'].inverse_transform([predicted_diet])[0]\n",
        "    print(f\"Recommended Diet: {diet_name}\")\n",
        "\n",
        "    # Recommend workout based on diet recommendation\n",
        "    workout_input = [[0, weight, weight, age, 30, bmi, preference]]  # Adjust inputs based on model needs\n",
        "    predicted_workout = gb_workout_model.predict(workout_input)[0]\n",
        "\n",
        "    # Convert the predicted workout into a suitable label\n",
        "    predicted_workout_int = round(predicted_workout)  # Since it's regression, round to the nearest integer\n",
        "    workout_name = label_encoders_workout['Exercise_Type'].inverse_transform([predicted_workout_int])[0]\n",
        "\n",
        "    print(f\"Recommended Workout: {workout_name}\")\n"
      ],
      "metadata": {
        "id": "v_Yw3Ip7xLyR"
      },
      "execution_count": 13,
      "outputs": []
    },
    {
      "cell_type": "code",
      "source": [
        "# Step 9: Example user input for recommendation\n",
        "age = 25\n",
        "weight = 70\n",
        "height = 175\n",
        "# Assuming 'Veg_Non' was originally encoded as strings ('Veg', 'Non-Veg'),\n",
        "# and 1 represents 'Veg', we need to transform it accordingly.\n",
        "# FIX: Check if 'Veg' is in the classes_ of the LabelEncoder\n",
        "# If not, manually assign the desired encoded value (1 in this case)\n",
        "if 'Veg' in label_encoders_diet['Veg_Non'].classes_:\n",
        "    veg_nonveg = label_encoders_diet['Veg_Non'].transform(['Veg'])[0]\n",
        "else:\n",
        "    veg_nonveg = 1  # Manually assign 1 for 'Veg' if it's unseen\n",
        "preference = 2  # Example user preference encoded\n",
        "\n",
        "# Get recommendations\n",
        "recommend_diet_workout(age, weight, height, veg_nonveg, preference)"
      ],
      "metadata": {
        "colab": {
          "base_uri": "https://localhost:8080/"
        },
        "id": "Va4UcikzxRCF",
        "outputId": "37f9ed3d-4edf-4e4b-c79d-1c4e2588b83a"
      },
      "execution_count": 17,
      "outputs": [
        {
          "output_type": "stream",
          "name": "stdout",
          "text": [
            "Recommended Diet:  low_fat_diet low_carb_diet vegan_diet hormone_diet high_protien_diet type_a_diet\n",
            "Recommended Workout: flexibility\n"
          ]
        },
        {
          "output_type": "stream",
          "name": "stderr",
          "text": [
            "/usr/local/lib/python3.10/dist-packages/sklearn/base.py:493: UserWarning: X does not have valid feature names, but GradientBoostingClassifier was fitted with feature names\n",
            "  warnings.warn(\n",
            "/usr/local/lib/python3.10/dist-packages/sklearn/base.py:493: UserWarning: X does not have valid feature names, but GradientBoostingRegressor was fitted with feature names\n",
            "  warnings.warn(\n"
          ]
        }
      ]
    }
  ]
}